{
 "cells": [
  {
   "cell_type": "markdown",
   "id": "5fb32c28",
   "metadata": {},
   "source": [
    "IT5437 – Assignment 1"
   ]
  },
  {
   "cell_type": "code",
   "execution_count": null,
   "id": "f18b774b",
   "metadata": {},
   "outputs": [],
   "source": [
    "# === Setup: installs & imports ===\n",
    "!pip -q install opencv-python-headless==4.10.0.84"
   ]
  },
  {
   "cell_type": "code",
   "execution_count": null,
   "id": "720f2799",
   "metadata": {},
   "outputs": [],
   "source": [
    "import cv2 as cv\n",
    "import numpy as np\n",
    "import matplotlib.pyplot as plt\n",
    "from pathlib import Path\n",
    "\n",
    "plt.rcParams['figure.figsize'] = (6,4)\n",
    "\n",
    "def load_image(path):\n",
    "    \"\"\"Load an image from path (returns BGR).\"\"\"\n",
    "    img = cv.imread(str(path), cv.IMREAD_COLOR)\n",
    "    if img is None:\n",
    "        raise FileNotFoundError(f\"Image not found: {path}\")\n",
    "    return img\n",
    "\n",
    "def show(img, title=None, cmap=None):\n",
    "    plt.figure()\n",
    "    if img.ndim == 2:\n",
    "        plt.imshow(img, cmap=cmap or 'gray')\n",
    "    else:\n",
    "        plt.imshow(cv.cvtColor(img, cv.COLOR_BGR2RGB))\n",
    "    if title:\n",
    "        plt.title(title)\n",
    "    plt.axis(\"off\")\n",
    "    plt.show()\n",
    "\n",
    "def plot_hist(img, title=\"Histogram\", color=True):\n",
    "    plt.figure()\n",
    "    if img.ndim == 2:\n",
    "        plt.hist(img.ravel(), bins=256, range=(0,255))\n",
    "    else:\n",
    "        if color:\n",
    "            for i, col in enumerate((\"b\",\"g\",\"r\")):\n",
    "                plt.hist(img[:,:,i].ravel(), bins=256, range=(0,255), alpha=0.5, label=col)\n",
    "            plt.legend()\n",
    "        else:\n",
    "            gray = cv.cvtColor(img, cv.COLOR_BGR2GRAY)\n",
    "            plt.hist(gray.ravel(), bins=256, range=(0,255))\n",
    "    plt.title(title)\n",
    "    plt.show()\n",
    "\n",
    "def to_uint8(x):\n",
    "    return np.clip(np.round(x), 0, 255).astype(np.uint8)"
   ]
  },
  {
   "cell_type": "markdown",
   "id": "c709dbb4",
   "metadata": {},
   "source": [
    "Q1. Intensity transformation (apply Fig. 1a to Fig. 1b) Define the curve by control points and apply via LUT."
   ]
  },
  {
   "cell_type": "code",
   "execution_count": null,
   "id": "297de068",
   "metadata": {},
   "outputs": [],
   "source": [
    "# Q1 – Intensity Transformation\n",
    "img = load_image(r\"emma.jpg\")\n",
    "show(img, \"Q1: Input\")"
   ]
  },
  {
   "cell_type": "code",
   "execution_count": null,
   "id": "c5025cd0",
   "metadata": {},
   "outputs": [],
   "source": [
    "# Define control points (adjust to match Fig. 1a)\n",
    "control_x = np.array([0, 50, 100, 150, 200, 255], dtype=np.float32)\n",
    "control_y = np.array([0, 30, 120, 180, 220, 255], dtype=np.float32)\n",
    "\n",
    "x = np.arange(256, dtype=np.float32)\n",
    "lut = np.interp(x, control_x, control_y)\n",
    "lut_u8 = to_uint8(lut)\n",
    "\n",
    "out = cv.LUT(img, lut_u8)\n",
    "show(out, \"Q1: Transformed\")\n",
    "\n",
    "plt.figure()\n",
    "plt.plot(x, lut, lw=2)\n",
    "plt.title(\"Q1: Intensity Transformation Curve\")\n",
    "plt.xlabel(\"Input intensity\")\n",
    "plt.ylabel(\"Output intensity\")\n",
    "plt.grid(True)\n",
    "plt.show()"
   ]
  },
  {
   "cell_type": "markdown",
   "id": "309eb6d7",
   "metadata": {},
   "source": [
    "Q2. Accentuate white & gray matter (Fig. 2) Use separate LUTs to emphasize high (white matter) and mid (gray matter) intensities."
   ]
  },
  {
   "cell_type": "code",
   "execution_count": null,
   "id": "4b84cd84",
   "metadata": {},
   "outputs": [],
   "source": [
    "# Q2 – Brain proton density image (Fig. 2)\n",
    "brain = load_image(\"brain_proton_density_slice.png\")  \n",
    "# Convert to grayscale if image is RGB\n",
    "if brain.ndim == 3:\n",
    "    brain_gray = cv.cvtColor(brain, cv.COLOR_BGR2GRAY)\n",
    "else:\n",
    "    brain_gray = brain.copy()\n",
    "\n",
    "# Show result\n",
    "show(brain_gray, \"Q2: Brain (gray)\")"
   ]
  },
  {
   "cell_type": "code",
   "execution_count": null,
   "id": "f18289be",
   "metadata": {},
   "outputs": [],
   "source": [
    "wm_low, wm_high = 140, 255\n",
    "x = np.arange(256, dtype=np.float32)\n",
    "wm_lut = np.piecewise(x,\n",
    "    [x<wm_low, (x>=wm_low)&(x<=wm_high), x>wm_high],\n",
    "    [0, lambda t: 255*(t-wm_low)/(wm_high-wm_low+1e-6), 255])\n",
    "wm = cv.LUT(brain_gray, to_uint8(wm_lut))\n",
    "\n",
    "gm_c, gm_w = 120, 60\n",
    "gm_low, gm_high = gm_c-gm_w, gm_c+gm_w\n",
    "gm_lut = np.piecewise(x,\n",
    "    [x<gm_low, (x>=gm_low)&(x<=gm_high), x>gm_high],\n",
    "    [0, lambda t: 255*(t-gm_low)/(gm_high-gm_low+1e-6), 0])\n",
    "gm = cv.LUT(brain_gray, to_uint8(gm_lut))\n",
    "\n",
    "show(wm, \"Q2: White matter accentuated\")\n",
    "show(gm, \"Q2: Gray matter accentuated\")\n",
    "plt.figure(); plt.plot(x, wm_lut); plt.title(\"Q2: WM LUT\"); plt.grid(True); plt.show()\n",
    "plt.figure(); plt.plot(x, gm_lut); plt.title(\"Q2: GM LUT\"); plt.grid(True); plt.show()"
   ]
  }
 ],
 "metadata": {
  "language_info": {
   "name": "python"
  }
 },
 "nbformat": 4,
 "nbformat_minor": 5
}
